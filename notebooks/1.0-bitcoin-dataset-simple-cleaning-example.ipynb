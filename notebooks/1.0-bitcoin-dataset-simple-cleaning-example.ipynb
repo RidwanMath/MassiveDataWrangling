{
 "cells": [
  {
   "cell_type": "code",
   "execution_count": 17,
   "metadata": {},
   "outputs": [],
   "source": [
    "import pandas as pd\n",
    "import numpy as np"
   ]
  },
  {
   "cell_type": "code",
   "execution_count": 18,
   "metadata": {},
   "outputs": [],
   "source": [
    "#this is for dataset\n",
    "directory='~/MasiveData/massive_data_processing_project1/data/processed/cryptocoins/bitcoin_dataset.csv'\n",
    "df=pd.read_csv(directory)"
   ]
  },
  {
   "cell_type": "code",
   "execution_count": 19,
   "metadata": {
    "scrolled": true
   },
   "outputs": [
    {
     "data": {
      "text/html": [
       "<div>\n",
       "<style scoped>\n",
       "    .dataframe tbody tr th:only-of-type {\n",
       "        vertical-align: middle;\n",
       "    }\n",
       "\n",
       "    .dataframe tbody tr th {\n",
       "        vertical-align: top;\n",
       "    }\n",
       "\n",
       "    .dataframe thead th {\n",
       "        text-align: right;\n",
       "    }\n",
       "</style>\n",
       "<table border=\"1\" class=\"dataframe\">\n",
       "  <thead>\n",
       "    <tr style=\"text-align: right;\">\n",
       "      <th></th>\n",
       "      <th>Date</th>\n",
       "      <th>btc_market_price</th>\n",
       "      <th>btc_total_bitcoins</th>\n",
       "      <th>btc_market_cap</th>\n",
       "      <th>btc_trade_volume</th>\n",
       "      <th>btc_blocks_size</th>\n",
       "      <th>btc_avg_block_size</th>\n",
       "      <th>btc_n_orphaned_blocks</th>\n",
       "      <th>btc_n_transactions_per_block</th>\n",
       "      <th>btc_median_confirmation_time</th>\n",
       "      <th>...</th>\n",
       "      <th>btc_cost_per_transaction_percent</th>\n",
       "      <th>btc_cost_per_transaction</th>\n",
       "      <th>btc_n_unique_addresses</th>\n",
       "      <th>btc_n_transactions</th>\n",
       "      <th>btc_n_transactions_total</th>\n",
       "      <th>btc_n_transactions_excluding_popular</th>\n",
       "      <th>btc_n_transactions_excluding_chains_longer_than_100</th>\n",
       "      <th>btc_output_volume</th>\n",
       "      <th>btc_estimated_transaction_volume</th>\n",
       "      <th>btc_estimated_transaction_volume_usd</th>\n",
       "    </tr>\n",
       "  </thead>\n",
       "  <tbody>\n",
       "    <tr>\n",
       "      <th>0</th>\n",
       "      <td>2009-01-03 00:00:00</td>\n",
       "      <td>0.0</td>\n",
       "      <td>50.0</td>\n",
       "      <td>0.0</td>\n",
       "      <td>0.0</td>\n",
       "      <td>0.0</td>\n",
       "      <td>0.000285</td>\n",
       "      <td>0.0</td>\n",
       "      <td>1.0</td>\n",
       "      <td>0.0</td>\n",
       "      <td>...</td>\n",
       "      <td>0.0</td>\n",
       "      <td>0.0</td>\n",
       "      <td>1.0</td>\n",
       "      <td>1.0</td>\n",
       "      <td>1.0</td>\n",
       "      <td>1.0</td>\n",
       "      <td>1.0</td>\n",
       "      <td>50.0</td>\n",
       "      <td>0.0</td>\n",
       "      <td>0.0</td>\n",
       "    </tr>\n",
       "    <tr>\n",
       "      <th>1</th>\n",
       "      <td>2009-01-05 00:00:00</td>\n",
       "      <td>0.0</td>\n",
       "      <td>50.0</td>\n",
       "      <td>0.0</td>\n",
       "      <td>0.0</td>\n",
       "      <td>0.0</td>\n",
       "      <td>0.000000</td>\n",
       "      <td>0.0</td>\n",
       "      <td>1.0</td>\n",
       "      <td>0.0</td>\n",
       "      <td>...</td>\n",
       "      <td>0.0</td>\n",
       "      <td>0.0</td>\n",
       "      <td>0.0</td>\n",
       "      <td>0.0</td>\n",
       "      <td>1.0</td>\n",
       "      <td>0.0</td>\n",
       "      <td>0.0</td>\n",
       "      <td>0.0</td>\n",
       "      <td>0.0</td>\n",
       "      <td>0.0</td>\n",
       "    </tr>\n",
       "    <tr>\n",
       "      <th>2</th>\n",
       "      <td>2009-01-07 00:00:00</td>\n",
       "      <td>0.0</td>\n",
       "      <td>50.0</td>\n",
       "      <td>0.0</td>\n",
       "      <td>0.0</td>\n",
       "      <td>0.0</td>\n",
       "      <td>0.000000</td>\n",
       "      <td>0.0</td>\n",
       "      <td>1.0</td>\n",
       "      <td>0.0</td>\n",
       "      <td>...</td>\n",
       "      <td>0.0</td>\n",
       "      <td>0.0</td>\n",
       "      <td>0.0</td>\n",
       "      <td>0.0</td>\n",
       "      <td>1.0</td>\n",
       "      <td>0.0</td>\n",
       "      <td>0.0</td>\n",
       "      <td>0.0</td>\n",
       "      <td>0.0</td>\n",
       "      <td>0.0</td>\n",
       "    </tr>\n",
       "    <tr>\n",
       "      <th>3</th>\n",
       "      <td>2009-01-09 00:00:00</td>\n",
       "      <td>0.0</td>\n",
       "      <td>750.0</td>\n",
       "      <td>0.0</td>\n",
       "      <td>0.0</td>\n",
       "      <td>0.0</td>\n",
       "      <td>0.000215</td>\n",
       "      <td>0.0</td>\n",
       "      <td>1.0</td>\n",
       "      <td>0.0</td>\n",
       "      <td>...</td>\n",
       "      <td>0.0</td>\n",
       "      <td>0.0</td>\n",
       "      <td>14.0</td>\n",
       "      <td>14.0</td>\n",
       "      <td>15.0</td>\n",
       "      <td>14.0</td>\n",
       "      <td>14.0</td>\n",
       "      <td>700.0</td>\n",
       "      <td>0.0</td>\n",
       "      <td>0.0</td>\n",
       "    </tr>\n",
       "    <tr>\n",
       "      <th>4</th>\n",
       "      <td>2009-01-11 00:00:00</td>\n",
       "      <td>0.0</td>\n",
       "      <td>7600.0</td>\n",
       "      <td>0.0</td>\n",
       "      <td>0.0</td>\n",
       "      <td>0.0</td>\n",
       "      <td>0.000215</td>\n",
       "      <td>0.0</td>\n",
       "      <td>1.0</td>\n",
       "      <td>0.0</td>\n",
       "      <td>...</td>\n",
       "      <td>0.0</td>\n",
       "      <td>0.0</td>\n",
       "      <td>106.0</td>\n",
       "      <td>106.0</td>\n",
       "      <td>152.0</td>\n",
       "      <td>106.0</td>\n",
       "      <td>106.0</td>\n",
       "      <td>5300.0</td>\n",
       "      <td>0.0</td>\n",
       "      <td>0.0</td>\n",
       "    </tr>\n",
       "  </tbody>\n",
       "</table>\n",
       "<p>5 rows × 24 columns</p>\n",
       "</div>"
      ],
      "text/plain": [
       "                  Date  btc_market_price  btc_total_bitcoins  btc_market_cap  \\\n",
       "0  2009-01-03 00:00:00               0.0                50.0             0.0   \n",
       "1  2009-01-05 00:00:00               0.0                50.0             0.0   \n",
       "2  2009-01-07 00:00:00               0.0                50.0             0.0   \n",
       "3  2009-01-09 00:00:00               0.0               750.0             0.0   \n",
       "4  2009-01-11 00:00:00               0.0              7600.0             0.0   \n",
       "\n",
       "   btc_trade_volume  btc_blocks_size  btc_avg_block_size  \\\n",
       "0               0.0              0.0            0.000285   \n",
       "1               0.0              0.0            0.000000   \n",
       "2               0.0              0.0            0.000000   \n",
       "3               0.0              0.0            0.000215   \n",
       "4               0.0              0.0            0.000215   \n",
       "\n",
       "   btc_n_orphaned_blocks  btc_n_transactions_per_block  \\\n",
       "0                    0.0                           1.0   \n",
       "1                    0.0                           1.0   \n",
       "2                    0.0                           1.0   \n",
       "3                    0.0                           1.0   \n",
       "4                    0.0                           1.0   \n",
       "\n",
       "   btc_median_confirmation_time                  ...                   \\\n",
       "0                           0.0                  ...                    \n",
       "1                           0.0                  ...                    \n",
       "2                           0.0                  ...                    \n",
       "3                           0.0                  ...                    \n",
       "4                           0.0                  ...                    \n",
       "\n",
       "   btc_cost_per_transaction_percent  btc_cost_per_transaction  \\\n",
       "0                               0.0                       0.0   \n",
       "1                               0.0                       0.0   \n",
       "2                               0.0                       0.0   \n",
       "3                               0.0                       0.0   \n",
       "4                               0.0                       0.0   \n",
       "\n",
       "   btc_n_unique_addresses  btc_n_transactions  btc_n_transactions_total  \\\n",
       "0                     1.0                 1.0                       1.0   \n",
       "1                     0.0                 0.0                       1.0   \n",
       "2                     0.0                 0.0                       1.0   \n",
       "3                    14.0                14.0                      15.0   \n",
       "4                   106.0               106.0                     152.0   \n",
       "\n",
       "   btc_n_transactions_excluding_popular  \\\n",
       "0                                   1.0   \n",
       "1                                   0.0   \n",
       "2                                   0.0   \n",
       "3                                  14.0   \n",
       "4                                 106.0   \n",
       "\n",
       "   btc_n_transactions_excluding_chains_longer_than_100  btc_output_volume  \\\n",
       "0                                                1.0                 50.0   \n",
       "1                                                0.0                  0.0   \n",
       "2                                                0.0                  0.0   \n",
       "3                                               14.0                700.0   \n",
       "4                                              106.0               5300.0   \n",
       "\n",
       "   btc_estimated_transaction_volume  btc_estimated_transaction_volume_usd  \n",
       "0                               0.0                                   0.0  \n",
       "1                               0.0                                   0.0  \n",
       "2                               0.0                                   0.0  \n",
       "3                               0.0                                   0.0  \n",
       "4                               0.0                                   0.0  \n",
       "\n",
       "[5 rows x 24 columns]"
      ]
     },
     "execution_count": 19,
     "metadata": {},
     "output_type": "execute_result"
    }
   ],
   "source": [
    "df.head()"
   ]
  },
  {
   "cell_type": "code",
   "execution_count": 20,
   "metadata": {},
   "outputs": [],
   "source": [
    "df['Date']=pd.to_datetime(df['Date'])"
   ]
  },
  {
   "cell_type": "code",
   "execution_count": 29,
   "metadata": {},
   "outputs": [
    {
     "name": "stdout",
     "output_type": "stream",
     "text": [
      "<class 'pandas.core.frame.DataFrame'>\n",
      "RangeIndex: 1584 entries, 0 to 1583\n",
      "Data columns (total 24 columns):\n",
      "Date                                                   1584 non-null datetime64[ns]\n",
      "btc_market_price                                       1584 non-null float64\n",
      "btc_total_bitcoins                                     1584 non-null float64\n",
      "btc_market_cap                                         1584 non-null float64\n",
      "btc_trade_volume                                       1584 non-null float64\n",
      "btc_blocks_size                                        1584 non-null float64\n",
      "btc_avg_block_size                                     1584 non-null float64\n",
      "btc_n_orphaned_blocks                                  1584 non-null float64\n",
      "btc_n_transactions_per_block                           1584 non-null float64\n",
      "btc_median_confirmation_time                           1584 non-null float64\n",
      "btc_hash_rate                                          1584 non-null float64\n",
      "btc_difficulty                                         1584 non-null float64\n",
      "btc_miners_revenue                                     1584 non-null float64\n",
      "btc_transaction_fees                                   1584 non-null float64\n",
      "btc_cost_per_transaction_percent                       1584 non-null float64\n",
      "btc_cost_per_transaction                               1584 non-null float64\n",
      "btc_n_unique_addresses                                 1584 non-null float64\n",
      "btc_n_transactions                                     1584 non-null float64\n",
      "btc_n_transactions_total                               1584 non-null float64\n",
      "btc_n_transactions_excluding_popular                   1584 non-null float64\n",
      "btc_n_transactions_excluding_chains_longer_than_100    1584 non-null float64\n",
      "btc_output_volume                                      1584 non-null float64\n",
      "btc_estimated_transaction_volume                       1584 non-null float64\n",
      "btc_estimated_transaction_volume_usd                   1584 non-null float64\n",
      "dtypes: datetime64[ns](1), float64(23)\n",
      "memory usage: 297.1 KB\n"
     ]
    }
   ],
   "source": [
    "df.info()"
   ]
  },
  {
   "cell_type": "code",
   "execution_count": 22,
   "metadata": {},
   "outputs": [
    {
     "data": {
      "text/plain": [
       "btc_trade_volume    478\n",
       "dtype: int64"
      ]
     },
     "execution_count": 22,
     "metadata": {},
     "output_type": "execute_result"
    }
   ],
   "source": [
    "#checking null data\n",
    "null_columns=df.columns[df.isnull().any()]\n",
    "df[null_columns].isnull().sum()"
   ]
  },
  {
   "cell_type": "code",
   "execution_count": 23,
   "metadata": {},
   "outputs": [
    {
     "data": {
      "text/plain": [
       "7163809.963100633"
      ]
     },
     "execution_count": 23,
     "metadata": {},
     "output_type": "execute_result"
    }
   ],
   "source": [
    "#the mean value of btc_trade_volume \n",
    "df.btc_trade_volume.mean()"
   ]
  },
  {
   "cell_type": "code",
   "execution_count": 24,
   "metadata": {},
   "outputs": [
    {
     "name": "stdout",
     "output_type": "stream",
     "text": [
      "      btc_trade_volume\n",
      "449                NaN\n",
      "450                NaN\n",
      "451                NaN\n",
      "859                NaN\n",
      "860                NaN\n",
      "861                NaN\n",
      "862                NaN\n",
      "863                NaN\n",
      "864                NaN\n",
      "865                NaN\n",
      "866                NaN\n",
      "867                NaN\n",
      "868                NaN\n",
      "869                NaN\n",
      "870                NaN\n",
      "871                NaN\n",
      "872                NaN\n",
      "873                NaN\n",
      "874                NaN\n",
      "875                NaN\n",
      "876                NaN\n",
      "877                NaN\n",
      "878                NaN\n",
      "879                NaN\n",
      "976                NaN\n",
      "977                NaN\n",
      "978                NaN\n",
      "979                NaN\n",
      "980                NaN\n",
      "981                NaN\n",
      "...                ...\n",
      "1554               NaN\n",
      "1555               NaN\n",
      "1556               NaN\n",
      "1557               NaN\n",
      "1558               NaN\n",
      "1559               NaN\n",
      "1560               NaN\n",
      "1561               NaN\n",
      "1562               NaN\n",
      "1563               NaN\n",
      "1564               NaN\n",
      "1565               NaN\n",
      "1566               NaN\n",
      "1567               NaN\n",
      "1568               NaN\n",
      "1569               NaN\n",
      "1570               NaN\n",
      "1571               NaN\n",
      "1572               NaN\n",
      "1573               NaN\n",
      "1574               NaN\n",
      "1575               NaN\n",
      "1576               NaN\n",
      "1577               NaN\n",
      "1578               NaN\n",
      "1579               NaN\n",
      "1580               NaN\n",
      "1581               NaN\n",
      "1582               NaN\n",
      "1583               NaN\n",
      "\n",
      "[478 rows x 1 columns]\n"
     ]
    }
   ],
   "source": [
    "#print the results\n",
    "print(df[df[\"btc_trade_volume\"].isnull()][null_columns])"
   ]
  },
  {
   "cell_type": "code",
   "execution_count": 25,
   "metadata": {},
   "outputs": [],
   "source": [
    "#replace the btc_trade_volume with its mean\n",
    "df.btc_trade_volume= df.btc_trade_volume.fillna(df.btc_trade_volume.mean())"
   ]
  },
  {
   "cell_type": "code",
   "execution_count": 26,
   "metadata": {},
   "outputs": [
    {
     "data": {
      "text/plain": [
       "btc_trade_volume    0\n",
       "dtype: int64"
      ]
     },
     "execution_count": 26,
     "metadata": {},
     "output_type": "execute_result"
    }
   ],
   "source": [
    "ull_columns=df.columns[df.isnull().any()]\n",
    "df[null_columns].isnull().sum()"
   ]
  },
  {
   "cell_type": "code",
   "execution_count": 55,
   "metadata": {},
   "outputs": [
    {
     "data": {
      "text/plain": [
       "<matplotlib.axes._subplots.AxesSubplot at 0x7f721181d390>"
      ]
     },
     "execution_count": 55,
     "metadata": {},
     "output_type": "execute_result"
    },
    {
     "data": {
      "image/png": "[encoded data removed]",
      "text/plain": [
       "<Figure size 432x288 with 1 Axes>"
      ]
     },
     "metadata": {},
     "output_type": "display_data"
    }
   ],
   "source": [
    "plt.figure()\n",
    "df.btc_market_price.plot.kde()"
   ]
  },
  {
   "cell_type": "code",
   "execution_count": 59,
   "metadata": {},
   "outputs": [
    {
     "data": {
      "text/plain": [
       "<matplotlib.axes._subplots.AxesSubplot at 0x7f72114ea908>"
      ]
     },
     "execution_count": 59,
     "metadata": {},
     "output_type": "execute_result"
    },
    {
     "data": {
      "text/plain": [
       "<Figure size 432x288 with 0 Axes>"
      ]
     },
     "metadata": {},
     "output_type": "display_data"
    },
    {
     "data": {
      "image/png": "[encoded data removed]",
      "text/plain": [
       "<Figure size 432x288 with 1 Axes>"
      ]
     },
     "metadata": {},
     "output_type": "display_data"
    }
   ],
   "source": [
    "plt.figure()\n",
    "df.plot.scatter('btc_cost_per_transaction', 'btc_n_transactions_total')"
   ]
  },
  {
   "cell_type": "code",
   "execution_count": null,
   "metadata": {},
   "outputs": [],
   "source": []
  }
 ],
 "metadata": {
  "kernelspec": {
   "display_name": "Python 3",
   "language": "python",
   "name": "python3"
  },
  "language_info": {
   "codemirror_mode": {
    "name": "ipython",
    "version": 3
   },
   "file_extension": ".py",
   "mimetype": "text/x-python",
   "name": "python",
   "nbconvert_exporter": "python",
   "pygments_lexer": "ipython3",
   "version": "3.6.4"
  }
 },
 "nbformat": 4,
 "nbformat_minor": 2
}
