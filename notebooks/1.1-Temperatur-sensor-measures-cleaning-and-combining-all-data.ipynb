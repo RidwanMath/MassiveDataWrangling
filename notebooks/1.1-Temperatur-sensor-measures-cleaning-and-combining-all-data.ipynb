{
 "cells": [
  {
   "cell_type": "code",
   "execution_count": 22,
   "metadata": {},
   "outputs": [],
   "source": [
    "import pandas as pd\n",
    "import numpy as np\n",
    "import glob\n",
    "import os\n",
    "import matplotlib.ip"
   ]
  },
  {
   "cell_type": "code",
   "execution_count": 36,
   "metadata": {},
   "outputs": [],
   "source": [
    "path = r'/home/read1/MasiveData/massive_data_processing_project1/data/interim/temperatures/'                     # use your path\n",
    "all_files = glob.glob(os.path.join(path, \"*.csv\"))     # advisable to use os.path.join as this makes concatenation OS independent\n",
    "\n",
    "df_from_each_file = (pd.read_csv(f) for f in all_files)\n",
    "df= pd.concat(df_from_each_file, ignore_index=True)\n",
    "# doesn't create a list, nor does it append to one"
   ]
  },
  {
   "cell_type": "code",
   "execution_count": 37,
   "metadata": {},
   "outputs": [
    {
     "data": {
      "text/html": [
       "<div>\n",
       "<style scoped>\n",
       "    .dataframe tbody tr th:only-of-type {\n",
       "        vertical-align: middle;\n",
       "    }\n",
       "\n",
       "    .dataframe tbody tr th {\n",
       "        vertical-align: top;\n",
       "    }\n",
       "\n",
       "    .dataframe thead th {\n",
       "        text-align: right;\n",
       "    }\n",
       "</style>\n",
       "<table border=\"1\" class=\"dataframe\">\n",
       "  <thead>\n",
       "    <tr style=\"text-align: right;\">\n",
       "      <th></th>\n",
       "      <th>sensor</th>\n",
       "      <th>value</th>\n",
       "      <th>time</th>\n",
       "    </tr>\n",
       "  </thead>\n",
       "  <tbody>\n",
       "    <tr>\n",
       "      <th>0</th>\n",
       "      <td>T-DHT11</td>\n",
       "      <td>27.0</td>\n",
       "      <td>2017-12-22T11:22:11Z</td>\n",
       "    </tr>\n",
       "    <tr>\n",
       "      <th>1</th>\n",
       "      <td>T-DHT11</td>\n",
       "      <td>28.0</td>\n",
       "      <td>2017-12-22T11:22:16Z</td>\n",
       "    </tr>\n",
       "    <tr>\n",
       "      <th>2</th>\n",
       "      <td>T-DHT11</td>\n",
       "      <td>28.0</td>\n",
       "      <td>2017-12-22T11:22:20Z</td>\n",
       "    </tr>\n",
       "    <tr>\n",
       "      <th>3</th>\n",
       "      <td>T-DHT11</td>\n",
       "      <td>28.0</td>\n",
       "      <td>2017-12-22T11:22:24Z</td>\n",
       "    </tr>\n",
       "    <tr>\n",
       "      <th>4</th>\n",
       "      <td>T-DHT11</td>\n",
       "      <td>28.0</td>\n",
       "      <td>2017-12-22T11:22:28Z</td>\n",
       "    </tr>\n",
       "  </tbody>\n",
       "</table>\n",
       "</div>"
      ],
      "text/plain": [
       "    sensor  value                  time\n",
       "0  T-DHT11   27.0  2017-12-22T11:22:11Z\n",
       "1  T-DHT11   28.0  2017-12-22T11:22:16Z\n",
       "2  T-DHT11   28.0  2017-12-22T11:22:20Z\n",
       "3  T-DHT11   28.0  2017-12-22T11:22:24Z\n",
       "4  T-DHT11   28.0  2017-12-22T11:22:28Z"
      ]
     },
     "execution_count": 37,
     "metadata": {},
     "output_type": "execute_result"
    }
   ],
   "source": [
    "df.head()"
   ]
  },
  {
   "cell_type": "code",
   "execution_count": 38,
   "metadata": {},
   "outputs": [],
   "source": [
    "path2 =r'/home/read1/MasiveData/massive_data_processing_project1/data/interim/temperatures/' # use your path\n",
    "allFiles2 = glob.glob(path + \"/*.json\")\n",
    "frame2 = pd.DataFrame()\n",
    "list_ = []\n",
    "for file_ in allFiles2:\n",
    "    ds = pd.read_json(file_,lines=True)\n",
    "    list_.append(ds)\n",
    "frame2 = pd.concat(list_)"
   ]
  },
  {
   "cell_type": "code",
   "execution_count": 33,
   "metadata": {},
   "outputs": [
    {
     "data": {
      "text/html": [
       "<div>\n",
       "<style scoped>\n",
       "    .dataframe tbody tr th:only-of-type {\n",
       "        vertical-align: middle;\n",
       "    }\n",
       "\n",
       "    .dataframe tbody tr th {\n",
       "        vertical-align: top;\n",
       "    }\n",
       "\n",
       "    .dataframe thead th {\n",
       "        text-align: right;\n",
       "    }\n",
       "</style>\n",
       "<table border=\"1\" class=\"dataframe\">\n",
       "  <thead>\n",
       "    <tr style=\"text-align: right;\">\n",
       "      <th></th>\n",
       "      <th>sensor</th>\n",
       "      <th>time</th>\n",
       "      <th>value</th>\n",
       "    </tr>\n",
       "  </thead>\n",
       "  <tbody>\n",
       "    <tr>\n",
       "      <th>0</th>\n",
       "      <td>T-HTU21</td>\n",
       "      <td>2017-12-20T12:17:05Z</td>\n",
       "      <td>25.09</td>\n",
       "    </tr>\n",
       "    <tr>\n",
       "      <th>1</th>\n",
       "      <td>T-HTU21</td>\n",
       "      <td>2017-12-20T12:17:07Z</td>\n",
       "      <td>25.09</td>\n",
       "    </tr>\n",
       "    <tr>\n",
       "      <th>2</th>\n",
       "      <td>T-HTU21</td>\n",
       "      <td>2017-12-20T12:17:09Z</td>\n",
       "      <td>25.09</td>\n",
       "    </tr>\n",
       "    <tr>\n",
       "      <th>3</th>\n",
       "      <td>T-HTU21</td>\n",
       "      <td>2017-12-20T12:17:11Z</td>\n",
       "      <td>25.09</td>\n",
       "    </tr>\n",
       "    <tr>\n",
       "      <th>4</th>\n",
       "      <td>T-HTU21</td>\n",
       "      <td>2017-12-20T12:17:13Z</td>\n",
       "      <td>25.08</td>\n",
       "    </tr>\n",
       "  </tbody>\n",
       "</table>\n",
       "</div>"
      ],
      "text/plain": [
       "    sensor                  time  value\n",
       "0  T-HTU21  2017-12-20T12:17:05Z  25.09\n",
       "1  T-HTU21  2017-12-20T12:17:07Z  25.09\n",
       "2  T-HTU21  2017-12-20T12:17:09Z  25.09\n",
       "3  T-HTU21  2017-12-20T12:17:11Z  25.09\n",
       "4  T-HTU21  2017-12-20T12:17:13Z  25.08"
      ]
     },
     "execution_count": 33,
     "metadata": {},
     "output_type": "execute_result"
    }
   ],
   "source": [
    "ds.head()"
   ]
  },
  {
   "cell_type": "code",
   "execution_count": 51,
   "metadata": {},
   "outputs": [],
   "source": [
    "new_data=df.append(ds)"
   ]
  },
  {
   "cell_type": "code",
   "execution_count": 60,
   "metadata": {},
   "outputs": [
    {
     "name": "stdout",
     "output_type": "stream",
     "text": [
      "<class 'pandas.core.frame.DataFrame'>\n",
      "Int64Index: 10002961 entries, 0 to 1428382\n",
      "Data columns (total 3 columns):\n",
      "sensor    object\n",
      "time      object\n",
      "value     float64\n",
      "dtypes: float64(1), object(2)\n",
      "memory usage: 305.3+ MB\n"
     ]
    }
   ],
   "source": [
    "new_data.info()"
   ]
  },
  {
   "cell_type": "code",
   "execution_count": null,
   "metadata": {},
   "outputs": [],
   "source": [
    "new_data['sensor'].to_string()"
   ]
  },
  {
   "cell_type": "code",
   "execution_count": 41,
   "metadata": {},
   "outputs": [
    {
     "data": {
      "text/html": [
       "<div>\n",
       "<style scoped>\n",
       "    .dataframe tbody tr th:only-of-type {\n",
       "        vertical-align: middle;\n",
       "    }\n",
       "\n",
       "    .dataframe tbody tr th {\n",
       "        vertical-align: top;\n",
       "    }\n",
       "\n",
       "    .dataframe thead th {\n",
       "        text-align: right;\n",
       "    }\n",
       "</style>\n",
       "<table border=\"1\" class=\"dataframe\">\n",
       "  <thead>\n",
       "    <tr style=\"text-align: right;\">\n",
       "      <th></th>\n",
       "      <th>value</th>\n",
       "    </tr>\n",
       "  </thead>\n",
       "  <tbody>\n",
       "    <tr>\n",
       "      <th>count</th>\n",
       "      <td>1.000296e+07</td>\n",
       "    </tr>\n",
       "    <tr>\n",
       "      <th>mean</th>\n",
       "      <td>1.620849e+02</td>\n",
       "    </tr>\n",
       "    <tr>\n",
       "      <th>std</th>\n",
       "      <td>3.477512e+02</td>\n",
       "    </tr>\n",
       "    <tr>\n",
       "      <th>min</th>\n",
       "      <td>1.000000e+00</td>\n",
       "    </tr>\n",
       "    <tr>\n",
       "      <th>25%</th>\n",
       "      <td>2.000000e+01</td>\n",
       "    </tr>\n",
       "    <tr>\n",
       "      <th>50%</th>\n",
       "      <td>2.300000e+01</td>\n",
       "    </tr>\n",
       "    <tr>\n",
       "      <th>75%</th>\n",
       "      <td>3.030000e+01</td>\n",
       "    </tr>\n",
       "    <tr>\n",
       "      <th>max</th>\n",
       "      <td>1.039050e+03</td>\n",
       "    </tr>\n",
       "  </tbody>\n",
       "</table>\n",
       "</div>"
      ],
      "text/plain": [
       "              value\n",
       "count  1.000296e+07\n",
       "mean   1.620849e+02\n",
       "std    3.477512e+02\n",
       "min    1.000000e+00\n",
       "25%    2.000000e+01\n",
       "50%    2.300000e+01\n",
       "75%    3.030000e+01\n",
       "max    1.039050e+03"
      ]
     },
     "execution_count": 41,
     "metadata": {},
     "output_type": "execute_result"
    }
   ],
   "source": [
    "new_data.describe()"
   ]
  },
  {
   "cell_type": "code",
   "execution_count": 79,
   "metadata": {},
   "outputs": [],
   "source": [
    "import dateutil\n",
    "#Convert date from string to date times\n",
    "new_data['time'] = new_data['time'].apply(dateutil.parser.parse, dayfirst=True)"
   ]
  },
  {
   "cell_type": "code",
   "execution_count": 80,
   "metadata": {},
   "outputs": [
    {
     "name": "stdout",
     "output_type": "stream",
     "text": [
      "<class 'pandas.core.frame.DataFrame'>\n",
      "Int64Index: 10002961 entries, 0 to 1428382\n",
      "Data columns (total 3 columns):\n",
      "sensor    object\n",
      "time      datetime64[ns, UTC]\n",
      "value     float64\n",
      "dtypes: datetime64[ns, UTC](1), float64(1), object(1)\n",
      "memory usage: 625.3+ MB\n"
     ]
    }
   ],
   "source": [
    "new_data.info()"
   ]
  },
  {
   "cell_type": "code",
   "execution_count": 81,
   "metadata": {},
   "outputs": [
    {
     "data": {
      "text/html": [
       "<div>\n",
       "<style scoped>\n",
       "    .dataframe tbody tr th:only-of-type {\n",
       "        vertical-align: middle;\n",
       "    }\n",
       "\n",
       "    .dataframe tbody tr th {\n",
       "        vertical-align: top;\n",
       "    }\n",
       "\n",
       "    .dataframe thead th {\n",
       "        text-align: right;\n",
       "    }\n",
       "</style>\n",
       "<table border=\"1\" class=\"dataframe\">\n",
       "  <thead>\n",
       "    <tr style=\"text-align: right;\">\n",
       "      <th></th>\n",
       "      <th>sensor</th>\n",
       "      <th>value</th>\n",
       "    </tr>\n",
       "    <tr>\n",
       "      <th>time</th>\n",
       "      <th></th>\n",
       "      <th></th>\n",
       "    </tr>\n",
       "  </thead>\n",
       "  <tbody>\n",
       "    <tr>\n",
       "      <th>2017-12-22T10:52:59Z</th>\n",
       "      <td>T-BMP280</td>\n",
       "      <td>26.43</td>\n",
       "    </tr>\n",
       "    <tr>\n",
       "      <th>2017-12-22T10:53:02Z</th>\n",
       "      <td>T-BMP280</td>\n",
       "      <td>26.43</td>\n",
       "    </tr>\n",
       "    <tr>\n",
       "      <th>2017-12-22T10:53:05Z</th>\n",
       "      <td>T-BMP280</td>\n",
       "      <td>26.44</td>\n",
       "    </tr>\n",
       "    <tr>\n",
       "      <th>2017-12-22T10:53:08Z</th>\n",
       "      <td>T-BMP280</td>\n",
       "      <td>26.44</td>\n",
       "    </tr>\n",
       "    <tr>\n",
       "      <th>2017-12-22T10:53:11Z</th>\n",
       "      <td>T-BMP280</td>\n",
       "      <td>26.42</td>\n",
       "    </tr>\n",
       "  </tbody>\n",
       "</table>\n",
       "</div>"
      ],
      "text/plain": [
       "                        sensor  value\n",
       "time                                 \n",
       "2017-12-22T10:52:59Z  T-BMP280  26.43\n",
       "2017-12-22T10:53:02Z  T-BMP280  26.43\n",
       "2017-12-22T10:53:05Z  T-BMP280  26.44\n",
       "2017-12-22T10:53:08Z  T-BMP280  26.44\n",
       "2017-12-22T10:53:11Z  T-BMP280  26.42"
      ]
     },
     "execution_count": 81,
     "metadata": {},
     "output_type": "execute_result"
    }
   ],
   "source": [
    "indexed_df = sorted_df.set_index('time')\n",
    "indexed_df.head()"
   ]
  },
  {
   "cell_type": "code",
   "execution_count": 46,
   "metadata": {},
   "outputs": [
    {
     "data": {
      "text/plain": [
       "10002961"
      ]
     },
     "execution_count": 46,
     "metadata": {},
     "output_type": "execute_result"
    }
   ],
   "source": [
    "new_data['sensor'].count()"
   ]
  },
  {
   "cell_type": "code",
   "execution_count": 47,
   "metadata": {},
   "outputs": [
    {
     "data": {
      "text/plain": [
       "H-DHT22     1440160\n",
       "T-DHT22     1440150\n",
       "T-HTU21     1428383\n",
       "H-HTU21     1428377\n",
       "T-BMP280    1422795\n",
       "P-BMP280    1422788\n",
       "T-DHT11     1420308\n",
       "Name: sensor, dtype: int64"
      ]
     },
     "execution_count": 47,
     "metadata": {},
     "output_type": "execute_result"
    }
   ],
   "source": [
    "new_data['sensor'].value_counts()"
   ]
  },
  {
   "cell_type": "code",
   "execution_count": 69,
   "metadata": {},
   "outputs": [
    {
     "data": {
      "text/plain": [
       "5886032"
      ]
     },
     "execution_count": 69,
     "metadata": {},
     "output_type": "execute_result"
    }
   ],
   "source": [
    "# Number of non-null unique network entries\n",
    "new_data['time'].nunique()"
   ]
  },
  {
   "cell_type": "code",
   "execution_count": 71,
   "metadata": {},
   "outputs": [
    {
     "data": {
      "text/plain": [
       "dict_keys(['H-DHT22', 'H-HTU21', 'P-BMP280', 'T-BMP280', 'T-DHT11', 'T-DHT22', 'T-HTU21'])"
      ]
     },
     "execution_count": 71,
     "metadata": {},
     "output_type": "execute_result"
    }
   ],
   "source": [
    "new_data.groupby(['sensor']).groups.keys()"
   ]
  },
  {
   "cell_type": "code",
   "execution_count": 72,
   "metadata": {},
   "outputs": [
    {
     "data": {
      "text/html": [
       "<div>\n",
       "<style scoped>\n",
       "    .dataframe tbody tr th:only-of-type {\n",
       "        vertical-align: middle;\n",
       "    }\n",
       "\n",
       "    .dataframe tbody tr th {\n",
       "        vertical-align: top;\n",
       "    }\n",
       "\n",
       "    .dataframe thead th {\n",
       "        text-align: right;\n",
       "    }\n",
       "</style>\n",
       "<table border=\"1\" class=\"dataframe\">\n",
       "  <thead>\n",
       "    <tr style=\"text-align: right;\">\n",
       "      <th></th>\n",
       "      <th>time</th>\n",
       "      <th>value</th>\n",
       "    </tr>\n",
       "    <tr>\n",
       "      <th>sensor</th>\n",
       "      <th></th>\n",
       "      <th></th>\n",
       "    </tr>\n",
       "  </thead>\n",
       "  <tbody>\n",
       "    <tr>\n",
       "      <th>H-DHT22</th>\n",
       "      <td>2017-12-19T14:07:18Z</td>\n",
       "      <td>15.70</td>\n",
       "    </tr>\n",
       "    <tr>\n",
       "      <th>H-HTU21</th>\n",
       "      <td>2017-12-20T12:17:05Z</td>\n",
       "      <td>28.30</td>\n",
       "    </tr>\n",
       "    <tr>\n",
       "      <th>P-BMP280</th>\n",
       "      <td>2017-12-22T10:52:59Z</td>\n",
       "      <td>1035.56</td>\n",
       "    </tr>\n",
       "    <tr>\n",
       "      <th>T-BMP280</th>\n",
       "      <td>2017-12-22T10:52:59Z</td>\n",
       "      <td>26.43</td>\n",
       "    </tr>\n",
       "    <tr>\n",
       "      <th>T-DHT11</th>\n",
       "      <td>2017-12-22T11:22:11Z</td>\n",
       "      <td>27.00</td>\n",
       "    </tr>\n",
       "    <tr>\n",
       "      <th>T-DHT22</th>\n",
       "      <td>2017-12-19T14:07:18Z</td>\n",
       "      <td>25.50</td>\n",
       "    </tr>\n",
       "    <tr>\n",
       "      <th>T-HTU21</th>\n",
       "      <td>2017-12-20T12:17:05Z</td>\n",
       "      <td>25.09</td>\n",
       "    </tr>\n",
       "  </tbody>\n",
       "</table>\n",
       "</div>"
      ],
      "text/plain": [
       "                          time    value\n",
       "sensor                                 \n",
       "H-DHT22   2017-12-19T14:07:18Z    15.70\n",
       "H-HTU21   2017-12-20T12:17:05Z    28.30\n",
       "P-BMP280  2017-12-22T10:52:59Z  1035.56\n",
       "T-BMP280  2017-12-22T10:52:59Z    26.43\n",
       "T-DHT11   2017-12-22T11:22:11Z    27.00\n",
       "T-DHT22   2017-12-19T14:07:18Z    25.50\n",
       "T-HTU21   2017-12-20T12:17:05Z    25.09"
      ]
     },
     "execution_count": 72,
     "metadata": {},
     "output_type": "execute_result"
    }
   ],
   "source": [
    "# Get the first entry for each sensor\n",
    "new_data.groupby('sensor').first()"
   ]
  },
  {
   "cell_type": "code",
   "execution_count": 92,
   "metadata": {},
   "outputs": [
    {
     "data": {
      "text/plain": [
       "sensor\n",
       "H-DHT22     1.442149e+06\n",
       "H-HTU21     4.905101e+07\n",
       "P-BMP280    1.445112e+09\n",
       "T-BMP280    3.165488e+07\n",
       "T-DHT11     3.017836e+07\n",
       "T-DHT22     3.312325e+07\n",
       "T-HTU21     3.076715e+07\n",
       "Name: value, dtype: float64"
      ]
     },
     "execution_count": 92,
     "metadata": {},
     "output_type": "execute_result"
    }
   ],
   "source": [
    "# Get the sum of the durations per sensor\n",
    "new_data.groupby('sensor')['value'].sum()"
   ]
  },
  {
   "cell_type": "code",
   "execution_count": 93,
   "metadata": {},
   "outputs": [
    {
     "data": {
      "text/plain": [
       "sensor\n",
       "H-DHT22     1440160\n",
       "H-HTU21     1428377\n",
       "P-BMP280    1422788\n",
       "T-BMP280    1422795\n",
       "T-DHT11     1420308\n",
       "T-DHT22     1440150\n",
       "T-HTU21     1428383\n",
       "Name: time, dtype: int64"
      ]
     },
     "execution_count": 93,
     "metadata": {},
     "output_type": "execute_result"
    }
   ],
   "source": [
    "# Get the number of dates / entries in each sensors\n",
    "new_data.groupby('sensor')['time'].count()"
   ]
  },
  {
   "cell_type": "code",
   "execution_count": 105,
   "metadata": {},
   "outputs": [
    {
     "data": {
      "text/plain": [
       "<matplotlib.axes._subplots.AxesSubplot at 0x7f4ccff387b8>"
      ]
     },
     "execution_count": 105,
     "metadata": {},
     "output_type": "execute_result"
    },
    {
     "data": {
      "image/png": "[encoded data removed]",
      "text/plain": [
       "<Figure size 432x288 with 1 Axes>"
      ]
     },
     "metadata": {},
     "output_type": "display_data"
    }
   ],
   "source": [
    "import matplotlib.pyplot as plt\n",
    "new_data[['value']].plot(kind='box')"
   ]
  },
  {
   "cell_type": "code",
   "execution_count": null,
   "metadata": {},
   "outputs": [],
   "source": []
  }
 ],
 "metadata": {
  "kernelspec": {
   "display_name": "Python 3",
   "language": "python",
   "name": "python3"
  },
  "language_info": {
   "codemirror_mode": {
    "name": "ipython",
    "version": 3
   },
   "file_extension": ".py",
   "mimetype": "text/x-python",
   "name": "python",
   "nbconvert_exporter": "python",
   "pygments_lexer": "ipython3",
   "version": "3.6.4"
  }
 },
 "nbformat": 4,
 "nbformat_minor": 2
}
